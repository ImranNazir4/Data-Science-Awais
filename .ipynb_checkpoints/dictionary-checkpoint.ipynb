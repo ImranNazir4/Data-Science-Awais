{
 "cells": [
  {
   "cell_type": "code",
   "execution_count": 44,
   "id": "d0ca547f",
   "metadata": {},
   "outputs": [
    {
     "data": {
      "text/plain": [
       "dict_keys(['name', 'age', 'marks', 'weight'])"
      ]
     },
     "execution_count": 44,
     "metadata": {},
     "output_type": "execute_result"
    }
   ],
   "source": [
    "student = {\"name\": \"awais\", \"age\": 22, \"marks\": 20, \"weight\": 52}\n",
    "k = student.keys()\n",
    "k"
   ]
  },
  {
   "cell_type": "markdown",
   "id": "db61ea18",
   "metadata": {},
   "source": [
    "### Output: dict_keys(['name', 'age', 'marks', 'weight'])\n"
   ]
  },
  {
   "cell_type": "code",
   "execution_count": 3,
   "id": "3ec9c822",
   "metadata": {},
   "outputs": [
    {
     "data": {
      "text/plain": [
       "dict_values(['awais', 22, 20, 52])"
      ]
     },
     "execution_count": 3,
     "metadata": {},
     "output_type": "execute_result"
    }
   ],
   "source": [
    "v = student.values()\n",
    "v"
   ]
  },
  {
   "cell_type": "markdown",
   "id": "86ce9370",
   "metadata": {},
   "source": [
    "### Output: dict_values(['awais', 22, 20, 52])"
   ]
  },
  {
   "cell_type": "code",
   "execution_count": 5,
   "id": "2c98d5ed",
   "metadata": {},
   "outputs": [
    {
     "data": {
      "text/plain": [
       "dict_items([('name', 'awais'), ('age', 22), ('marks', 20), ('weight', 52)])"
      ]
     },
     "execution_count": 5,
     "metadata": {},
     "output_type": "execute_result"
    }
   ],
   "source": [
    "i = student.items()\n",
    "i"
   ]
  },
  {
   "cell_type": "markdown",
   "id": "c7054094",
   "metadata": {},
   "source": [
    "### Output: dict_items([('name', 'awais'), ('age', 22), ('marks', 20), ('weight', 52)])"
   ]
  },
  {
   "cell_type": "markdown",
   "id": "5241dd16",
   "metadata": {},
   "source": [
    "### Getting an item"
   ]
  },
  {
   "cell_type": "code",
   "execution_count": 13,
   "id": "58489568",
   "metadata": {},
   "outputs": [
    {
     "data": {
      "text/plain": [
       "22"
      ]
     },
     "execution_count": 13,
     "metadata": {},
     "output_type": "execute_result"
    }
   ],
   "source": [
    "age = student[\"age\"]\n",
    "age"
   ]
  },
  {
   "cell_type": "code",
   "execution_count": 14,
   "id": "ea91345a",
   "metadata": {},
   "outputs": [
    {
     "data": {
      "text/plain": [
       "22"
      ]
     },
     "execution_count": 14,
     "metadata": {},
     "output_type": "execute_result"
    }
   ],
   "source": [
    "age = student.get(\"age\")\n",
    "age"
   ]
  },
  {
   "cell_type": "markdown",
   "id": "1256fb70",
   "metadata": {},
   "source": [
    "### Inserting and item"
   ]
  },
  {
   "cell_type": "code",
   "execution_count": 15,
   "id": "eef02369",
   "metadata": {},
   "outputs": [
    {
     "data": {
      "text/plain": [
       "{'name': 'awais', 'age': 22, 'marks': 20, 'weight': 52, 'height': 5.7}"
      ]
     },
     "execution_count": 15,
     "metadata": {},
     "output_type": "execute_result"
    }
   ],
   "source": [
    "student[\"height\"] = 5.7\n",
    "student"
   ]
  },
  {
   "cell_type": "markdown",
   "id": "715fb3f1",
   "metadata": {},
   "source": [
    "### Updating Dictionary"
   ]
  },
  {
   "cell_type": "code",
   "execution_count": 45,
   "id": "d61877e8",
   "metadata": {},
   "outputs": [
    {
     "data": {
      "text/plain": [
       "{'name': 'awais',\n",
       " 'age': 22,\n",
       " 'marks': 20,\n",
       " 'weight': 52,\n",
       " 'fatherName': 'Nayyar Nawaz',\n",
       " 'phone': '03xxxxxxxxx',\n",
       " 'Profession': 'Police Officer'}"
      ]
     },
     "execution_count": 45,
     "metadata": {},
     "output_type": "execute_result"
    }
   ],
   "source": [
    "parent = {\"fatherName\": \"Nayyar Nawaz\", \"phone\": \"03xxxxxxxxx\", \"Profession\": \"Police Officer\"} \n",
    "student.update(parent) #only we can pass a dictionary\n",
    "student"
   ]
  },
  {
   "cell_type": "code",
   "execution_count": 46,
   "id": "9c8d3ccb",
   "metadata": {},
   "outputs": [
    {
     "data": {
      "text/plain": [
       "{'name': 'awais',\n",
       " 'age': 22,\n",
       " 'marks': 20,\n",
       " 'weight': 52,\n",
       " 'fatherName': 'Nayyar Nawaz',\n",
       " 'phone': '03xxxxxxxxx',\n",
       " 'Profession': 'Police Officer',\n",
       " 'CNIC': '3xxxxxxxxxxxxxx'}"
      ]
     },
     "execution_count": 46,
     "metadata": {},
     "output_type": "execute_result"
    }
   ],
   "source": [
    "student[\"CNIC\"] = \"3xxxxxxxxxxxxxx\"\n",
    "student"
   ]
  },
  {
   "cell_type": "markdown",
   "id": "ff1ee2e8",
   "metadata": {},
   "source": [
    "### Delete item"
   ]
  },
  {
   "cell_type": "code",
   "execution_count": 38,
   "id": "12dee617",
   "metadata": {
    "scrolled": true
   },
   "outputs": [
    {
     "data": {
      "text/plain": [
       "{'name': 'awais',\n",
       " 'age': 22,\n",
       " 'marks': 20,\n",
       " 'weight': 52,\n",
       " 'height': 5.7,\n",
       " 'fatherName': 'Nayyar Nawaz',\n",
       " 'phone': '03xxxxxxxxx',\n",
       " 'Profession': 'Police Officer'}"
      ]
     },
     "execution_count": 38,
     "metadata": {},
     "output_type": "execute_result"
    }
   ],
   "source": [
    "del student[\"CNIC\"]\n",
    "student"
   ]
  },
  {
   "cell_type": "code",
   "execution_count": 39,
   "id": "3e4acab7",
   "metadata": {},
   "outputs": [
    {
     "data": {
      "text/plain": [
       "'Police Officer'"
      ]
     },
     "execution_count": 39,
     "metadata": {},
     "output_type": "execute_result"
    }
   ],
   "source": [
    "student.pop(\"Profession\")"
   ]
  },
  {
   "cell_type": "code",
   "execution_count": 41,
   "id": "e6a0668f",
   "metadata": {},
   "outputs": [
    {
     "data": {
      "text/plain": [
       "('phone', '03xxxxxxxxx')"
      ]
     },
     "execution_count": 41,
     "metadata": {},
     "output_type": "execute_result"
    }
   ],
   "source": [
    "student.popitem() # it deletes the last inserted item"
   ]
  },
  {
   "cell_type": "code",
   "execution_count": 42,
   "id": "709d1d66",
   "metadata": {},
   "outputs": [],
   "source": [
    "student.clear() # it clears the the whole dict"
   ]
  },
  {
   "cell_type": "code",
   "execution_count": 43,
   "id": "40c973b8",
   "metadata": {},
   "outputs": [
    {
     "data": {
      "text/plain": [
       "{}"
      ]
     },
     "execution_count": 43,
     "metadata": {},
     "output_type": "execute_result"
    }
   ],
   "source": [
    "student"
   ]
  },
  {
   "cell_type": "code",
   "execution_count": null,
   "id": "c3b706be",
   "metadata": {},
   "outputs": [],
   "source": []
  }
 ],
 "metadata": {
  "kernelspec": {
   "display_name": "Python 3 (ipykernel)",
   "language": "python",
   "name": "python3"
  },
  "language_info": {
   "codemirror_mode": {
    "name": "ipython",
    "version": 3
   },
   "file_extension": ".py",
   "mimetype": "text/x-python",
   "name": "python",
   "nbconvert_exporter": "python",
   "pygments_lexer": "ipython3",
   "version": "3.11.0"
  }
 },
 "nbformat": 4,
 "nbformat_minor": 5
}
