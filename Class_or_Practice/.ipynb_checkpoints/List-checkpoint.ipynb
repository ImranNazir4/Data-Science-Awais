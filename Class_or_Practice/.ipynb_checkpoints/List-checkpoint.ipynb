{
 "cells": [
  {
   "cell_type": "code",
   "execution_count": 1,
   "id": "e67ff0ff",
   "metadata": {},
   "outputs": [],
   "source": [
    "l1 = [1, \"apple\", \"banana\", \"apple\", \"apple\", \"hmm\", 3.4, \"123\"]\n",
    "l2 = [2, 4, 5, \"ball\", \"345\", \"bat\", 2]"
   ]
  },
  {
   "cell_type": "code",
   "execution_count": 18,
   "id": "45b8ff62",
   "metadata": {},
   "outputs": [
    {
     "data": {
      "text/plain": [
       "[1,\n",
       " 'apple',\n",
       " 'banana',\n",
       " 'apple',\n",
       " 'apple',\n",
       " 'hmm',\n",
       " 3.4,\n",
       " '123',\n",
       " 2,\n",
       " 4,\n",
       " 5,\n",
       " 'ball',\n",
       " '345',\n",
       " 'bat',\n",
       " 2,\n",
       " 2,\n",
       " 4,\n",
       " 5,\n",
       " 'ball',\n",
       " '345',\n",
       " 'bat',\n",
       " 2,\n",
       " 2,\n",
       " 4,\n",
       " 5,\n",
       " 'ball',\n",
       " '345',\n",
       " 'bat',\n",
       " 2]"
      ]
     },
     "execution_count": 18,
     "metadata": {},
     "output_type": "execute_result"
    }
   ],
   "source": [
    "l1 + l2\n",
    "l1"
   ]
  },
  {
   "cell_type": "code",
   "execution_count": 7,
   "id": "42c923be",
   "metadata": {},
   "outputs": [],
   "source": [
    "l1.extend(l2)\n"
   ]
  },
  {
   "cell_type": "code",
   "execution_count": 8,
   "id": "081bf785",
   "metadata": {},
   "outputs": [
    {
     "name": "stdout",
     "output_type": "stream",
     "text": [
      "[1, 'apple', 'banana', 'apple', 'apple', 'hmm', 3.4, '123', 2, 4, 5, 'ball', '345', 'bat', 2, 2, 4, 5, 'ball', '345', 'bat', 2, 2, 4, 5, 'ball', '345', 'bat', 2]\n"
     ]
    }
   ],
   "source": [
    "print(l1)"
   ]
  },
  {
   "cell_type": "code",
   "execution_count": 9,
   "id": "69613e1c",
   "metadata": {},
   "outputs": [
    {
     "name": "stdout",
     "output_type": "stream",
     "text": [
      "[1, 'apple', 'banana', 'apple', 'apple', 'hmm', 3.4, '123', 2, 4, 5, 'ball', '345', 'bat', 2, 2, 4, 5, 'ball', '345', 'bat', 2, 2, 4, 5, 'ball', '345', 'bat', 2]\n"
     ]
    }
   ],
   "source": [
    "l3 = l1\n",
    "print(l3)"
   ]
  },
  {
   "cell_type": "code",
   "execution_count": 10,
   "id": "e9adfdc3",
   "metadata": {},
   "outputs": [
    {
     "name": "stdout",
     "output_type": "stream",
     "text": [
      "1\n",
      "apple\n",
      "banana\n",
      "apple\n",
      "apple\n",
      "hmm\n",
      "3.4\n",
      "123\n",
      "2\n",
      "4\n",
      "5\n",
      "ball\n",
      "345\n",
      "bat\n",
      "2\n",
      "2\n",
      "4\n",
      "5\n",
      "ball\n",
      "345\n",
      "bat\n",
      "2\n",
      "2\n",
      "4\n",
      "5\n",
      "ball\n",
      "345\n",
      "bat\n",
      "2\n"
     ]
    }
   ],
   "source": [
    "for l in l3:\n",
    "    print(l)"
   ]
  },
  {
   "cell_type": "code",
   "execution_count": 11,
   "id": "5737a4a8",
   "metadata": {},
   "outputs": [
    {
     "name": "stdout",
     "output_type": "stream",
     "text": [
      "apple\n",
      "apple\n",
      "apple\n"
     ]
    }
   ],
   "source": [
    "for l in l3:\n",
    "    if l ==\"apple\":\n",
    "        print(l)"
   ]
  },
  {
   "cell_type": "code",
   "execution_count": 12,
   "id": "519c5dc5",
   "metadata": {},
   "outputs": [
    {
     "data": {
      "text/plain": [
       "3"
      ]
     },
     "execution_count": 12,
     "metadata": {},
     "output_type": "execute_result"
    }
   ],
   "source": [
    "l3.count(\"apple\")"
   ]
  },
  {
   "cell_type": "code",
   "execution_count": 13,
   "id": "0a8fcdbf",
   "metadata": {},
   "outputs": [],
   "source": [
    "l3.reverse()"
   ]
  },
  {
   "cell_type": "code",
   "execution_count": 14,
   "id": "0953c06a",
   "metadata": {},
   "outputs": [
    {
     "data": {
      "text/plain": [
       "[2,\n",
       " 'bat',\n",
       " '345',\n",
       " 'ball',\n",
       " 5,\n",
       " 4,\n",
       " 2,\n",
       " 2,\n",
       " 'bat',\n",
       " '345',\n",
       " 'ball',\n",
       " 5,\n",
       " 4,\n",
       " 2,\n",
       " 2,\n",
       " 'bat',\n",
       " '345',\n",
       " 'ball',\n",
       " 5,\n",
       " 4,\n",
       " 2,\n",
       " '123',\n",
       " 3.4,\n",
       " 'hmm',\n",
       " 'apple',\n",
       " 'apple',\n",
       " 'banana',\n",
       " 'apple',\n",
       " 1]"
      ]
     },
     "execution_count": 14,
     "metadata": {},
     "output_type": "execute_result"
    }
   ],
   "source": [
    "l3"
   ]
  },
  {
   "cell_type": "code",
   "execution_count": 15,
   "id": "d05434b0",
   "metadata": {},
   "outputs": [],
   "source": [
    "l3.reverse()"
   ]
  },
  {
   "cell_type": "code",
   "execution_count": 16,
   "id": "eac4931e",
   "metadata": {},
   "outputs": [
    {
     "data": {
      "text/plain": [
       "[1,\n",
       " 'apple',\n",
       " 'banana',\n",
       " 'apple',\n",
       " 'apple',\n",
       " 'hmm',\n",
       " 3.4,\n",
       " '123',\n",
       " 2,\n",
       " 4,\n",
       " 5,\n",
       " 'ball',\n",
       " '345',\n",
       " 'bat',\n",
       " 2,\n",
       " 2,\n",
       " 4,\n",
       " 5,\n",
       " 'ball',\n",
       " '345',\n",
       " 'bat',\n",
       " 2,\n",
       " 2,\n",
       " 4,\n",
       " 5,\n",
       " 'ball',\n",
       " '345',\n",
       " 'bat',\n",
       " 2]"
      ]
     },
     "execution_count": 16,
     "metadata": {},
     "output_type": "execute_result"
    }
   ],
   "source": [
    "l3"
   ]
  },
  {
   "cell_type": "code",
   "execution_count": 17,
   "id": "84cff3dd",
   "metadata": {},
   "outputs": [
    {
     "data": {
      "text/plain": [
       "29"
      ]
     },
     "execution_count": 17,
     "metadata": {},
     "output_type": "execute_result"
    }
   ],
   "source": [
    "len(l3)"
   ]
  },
  {
   "cell_type": "code",
   "execution_count": 19,
   "id": "3608290c",
   "metadata": {},
   "outputs": [],
   "source": [
    "del l3[6:20]"
   ]
  },
  {
   "cell_type": "code",
   "execution_count": 20,
   "id": "5c9dbeb3",
   "metadata": {},
   "outputs": [
    {
     "data": {
      "text/plain": [
       "[1,\n",
       " 'apple',\n",
       " 'banana',\n",
       " 'apple',\n",
       " 'apple',\n",
       " 'hmm',\n",
       " 'bat',\n",
       " 2,\n",
       " 2,\n",
       " 4,\n",
       " 5,\n",
       " 'ball',\n",
       " '345',\n",
       " 'bat',\n",
       " 2]"
      ]
     },
     "execution_count": 20,
     "metadata": {},
     "output_type": "execute_result"
    }
   ],
   "source": [
    "l3"
   ]
  },
  {
   "cell_type": "code",
   "execution_count": 21,
   "id": "6e018172",
   "metadata": {},
   "outputs": [],
   "source": [
    "l3.remove(\"apple\")"
   ]
  },
  {
   "cell_type": "code",
   "execution_count": 22,
   "id": "42eea974",
   "metadata": {},
   "outputs": [
    {
     "data": {
      "text/plain": [
       "[1,\n",
       " 'banana',\n",
       " 'apple',\n",
       " 'apple',\n",
       " 'hmm',\n",
       " 'bat',\n",
       " 2,\n",
       " 2,\n",
       " 4,\n",
       " 5,\n",
       " 'ball',\n",
       " '345',\n",
       " 'bat',\n",
       " 2]"
      ]
     },
     "execution_count": 22,
     "metadata": {},
     "output_type": "execute_result"
    }
   ],
   "source": [
    "l3"
   ]
  },
  {
   "cell_type": "code",
   "execution_count": 23,
   "id": "1316a7bc",
   "metadata": {},
   "outputs": [
    {
     "data": {
      "text/plain": [
       "True"
      ]
     },
     "execution_count": 23,
     "metadata": {},
     "output_type": "execute_result"
    }
   ],
   "source": [
    "l4 = \"apple\" in l3\n",
    "l4"
   ]
  },
  {
   "cell_type": "code",
   "execution_count": 24,
   "id": "657a7f98",
   "metadata": {},
   "outputs": [
    {
     "data": {
      "text/plain": [
       "[1, 4, 9, 16]"
      ]
     },
     "execution_count": 24,
     "metadata": {},
     "output_type": "execute_result"
    }
   ],
   "source": [
    "l5 = [x*x for x in range(1,5)]\n",
    "l5"
   ]
  },
  {
   "cell_type": "code",
   "execution_count": 28,
   "id": "1bf3b4b2",
   "metadata": {},
   "outputs": [
    {
     "name": "stdout",
     "output_type": "stream",
     "text": [
      "Sorted list: [(2, 1), (3, 2), (5, 2), (1, 3)]\n"
     ]
    }
   ],
   "source": [
    "# take second element for sort\n",
    "def takeSecond(elem):\n",
    "    return elem[1]\n",
    "\n",
    "# random list\n",
    "random = [ (3, 2),(5, 2),(2, 1), (1, 3)]\n",
    "\n",
    "# sort list with key\n",
    "random.sort(key = takeSecond)\n",
    "\n",
    "# print list\n",
    "print('Sorted list:', random)"
   ]
  },
  {
   "cell_type": "code",
   "execution_count": 31,
   "id": "b9d9bca6",
   "metadata": {},
   "outputs": [
    {
     "ename": "TypeError",
     "evalue": "'<' not supported between instances of 'dict' and 'dict'",
     "output_type": "error",
     "traceback": [
      "\u001b[1;31m---------------------------------------------------------------------------\u001b[0m",
      "\u001b[1;31mTypeError\u001b[0m                                 Traceback (most recent call last)",
      "Cell \u001b[1;32mIn[31], line 9\u001b[0m\n\u001b[0;32m      1\u001b[0m \u001b[38;5;66;03m# sorting using custom key\u001b[39;00m\n\u001b[0;32m      2\u001b[0m employees \u001b[38;5;241m=\u001b[39m [\n\u001b[0;32m      3\u001b[0m     {\u001b[38;5;124m'\u001b[39m\u001b[38;5;124mName\u001b[39m\u001b[38;5;124m'\u001b[39m: \u001b[38;5;124m'\u001b[39m\u001b[38;5;124mAlan Turing\u001b[39m\u001b[38;5;124m'\u001b[39m, \u001b[38;5;124m'\u001b[39m\u001b[38;5;124mage\u001b[39m\u001b[38;5;124m'\u001b[39m: \u001b[38;5;241m25\u001b[39m, \u001b[38;5;124m'\u001b[39m\u001b[38;5;124msalary\u001b[39m\u001b[38;5;124m'\u001b[39m: \u001b[38;5;241m10000\u001b[39m},\n\u001b[0;32m      4\u001b[0m     {\u001b[38;5;124m'\u001b[39m\u001b[38;5;124mName\u001b[39m\u001b[38;5;124m'\u001b[39m: \u001b[38;5;124m'\u001b[39m\u001b[38;5;124mSharon Lin\u001b[39m\u001b[38;5;124m'\u001b[39m, \u001b[38;5;124m'\u001b[39m\u001b[38;5;124mage\u001b[39m\u001b[38;5;124m'\u001b[39m: \u001b[38;5;241m30\u001b[39m, \u001b[38;5;124m'\u001b[39m\u001b[38;5;124msalary\u001b[39m\u001b[38;5;124m'\u001b[39m: \u001b[38;5;241m8000\u001b[39m},\n\u001b[0;32m      5\u001b[0m     {\u001b[38;5;124m'\u001b[39m\u001b[38;5;124mName\u001b[39m\u001b[38;5;124m'\u001b[39m: \u001b[38;5;124m'\u001b[39m\u001b[38;5;124mJohn Hopkins\u001b[39m\u001b[38;5;124m'\u001b[39m, \u001b[38;5;124m'\u001b[39m\u001b[38;5;124mage\u001b[39m\u001b[38;5;124m'\u001b[39m: \u001b[38;5;241m18\u001b[39m, \u001b[38;5;124m'\u001b[39m\u001b[38;5;124msalary\u001b[39m\u001b[38;5;124m'\u001b[39m: \u001b[38;5;241m1000\u001b[39m},\n\u001b[0;32m      6\u001b[0m     {\u001b[38;5;124m'\u001b[39m\u001b[38;5;124mName\u001b[39m\u001b[38;5;124m'\u001b[39m: \u001b[38;5;124m'\u001b[39m\u001b[38;5;124mMikhail Tal\u001b[39m\u001b[38;5;124m'\u001b[39m, \u001b[38;5;124m'\u001b[39m\u001b[38;5;124mage\u001b[39m\u001b[38;5;124m'\u001b[39m: \u001b[38;5;241m40\u001b[39m, \u001b[38;5;124m'\u001b[39m\u001b[38;5;124msalary\u001b[39m\u001b[38;5;124m'\u001b[39m: \u001b[38;5;241m15000\u001b[39m},\n\u001b[0;32m      7\u001b[0m ]\n\u001b[1;32m----> 9\u001b[0m emp \u001b[38;5;241m=\u001b[39m \u001b[38;5;28;43msorted\u001b[39;49m\u001b[43m(\u001b[49m\u001b[43memployees\u001b[49m\u001b[43m)\u001b[49m\n\u001b[0;32m     10\u001b[0m emp\n",
      "\u001b[1;31mTypeError\u001b[0m: '<' not supported between instances of 'dict' and 'dict'"
     ]
    }
   ],
   "source": [
    "# sorting using custom key\n",
    "employees = [\n",
    "    {'Name': 'Alan Turing', 'age': 25, 'salary': 10000},\n",
    "    {'Name': 'Sharon Lin', 'age': 30, 'salary': 8000},\n",
    "    {'Name': 'John Hopkins', 'age': 18, 'salary': 1000},\n",
    "    {'Name': 'Mikhail Tal', 'age': 40, 'salary': 15000},\n",
    "]\n",
    "\n",
    "emp = sorted(employees)\n",
    "emp"
   ]
  },
  {
   "cell_type": "code",
   "execution_count": null,
   "id": "1fefe6a3",
   "metadata": {},
   "outputs": [],
   "source": []
  }
 ],
 "metadata": {
  "kernelspec": {
   "display_name": "Python 3 (ipykernel)",
   "language": "python",
   "name": "python3"
  },
  "language_info": {
   "codemirror_mode": {
    "name": "ipython",
    "version": 3
   },
   "file_extension": ".py",
   "mimetype": "text/x-python",
   "name": "python",
   "nbconvert_exporter": "python",
   "pygments_lexer": "ipython3",
   "version": "3.11.0"
  }
 },
 "nbformat": 4,
 "nbformat_minor": 5
}
