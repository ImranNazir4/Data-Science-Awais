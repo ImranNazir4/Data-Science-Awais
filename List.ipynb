{
 "cells": [
  {
   "cell_type": "code",
   "execution_count": 1,
   "id": "3b416137",
   "metadata": {},
   "outputs": [],
   "source": [
    "l1 = [1, \"apple\", \"banana\", \"apple\", \"apple\", \"hmm\", 3.4, \"123\"]\n",
    "l2 = [2, 4, 5, \"ball\", \"345\", \"bat\", 2]"
   ]
  },
  {
   "cell_type": "code",
   "execution_count": 18,
   "id": "f0d6295a",
   "metadata": {},
   "outputs": [
    {
     "data": {
      "text/plain": [
       "[1,\n",
       " 'apple',\n",
       " 'banana',\n",
       " 'apple',\n",
       " 'apple',\n",
       " 'hmm',\n",
       " 3.4,\n",
       " '123',\n",
       " 2,\n",
       " 4,\n",
       " 5,\n",
       " 'ball',\n",
       " '345',\n",
       " 'bat',\n",
       " 2,\n",
       " 2,\n",
       " 4,\n",
       " 5,\n",
       " 'ball',\n",
       " '345',\n",
       " 'bat',\n",
       " 2,\n",
       " 2,\n",
       " 4,\n",
       " 5,\n",
       " 'ball',\n",
       " '345',\n",
       " 'bat',\n",
       " 2]"
      ]
     },
     "execution_count": 18,
     "metadata": {},
     "output_type": "execute_result"
    }
   ],
   "source": [
    "l1 + l2\n",
    "l1"
   ]
  },
  {
   "cell_type": "code",
   "execution_count": 7,
   "id": "ff66b49d",
   "metadata": {},
   "outputs": [],
   "source": [
    "l1.extend(l2)\n"
   ]
  },
  {
   "cell_type": "code",
   "execution_count": 8,
   "id": "927cca8f",
   "metadata": {},
   "outputs": [
    {
     "name": "stdout",
     "output_type": "stream",
     "text": [
      "[1, 'apple', 'banana', 'apple', 'apple', 'hmm', 3.4, '123', 2, 4, 5, 'ball', '345', 'bat', 2, 2, 4, 5, 'ball', '345', 'bat', 2, 2, 4, 5, 'ball', '345', 'bat', 2]\n"
     ]
    }
   ],
   "source": [
    "print(l1)"
   ]
  },
  {
   "cell_type": "code",
   "execution_count": 9,
   "id": "1b1bf682",
   "metadata": {},
   "outputs": [
    {
     "name": "stdout",
     "output_type": "stream",
     "text": [
      "[1, 'apple', 'banana', 'apple', 'apple', 'hmm', 3.4, '123', 2, 4, 5, 'ball', '345', 'bat', 2, 2, 4, 5, 'ball', '345', 'bat', 2, 2, 4, 5, 'ball', '345', 'bat', 2]\n"
     ]
    }
   ],
   "source": [
    "l3 = l1\n",
    "print(l3)"
   ]
  },
  {
   "cell_type": "code",
   "execution_count": 10,
   "id": "892f9bdf",
   "metadata": {},
   "outputs": [
    {
     "name": "stdout",
     "output_type": "stream",
     "text": [
      "1\n",
      "apple\n",
      "banana\n",
      "apple\n",
      "apple\n",
      "hmm\n",
      "3.4\n",
      "123\n",
      "2\n",
      "4\n",
      "5\n",
      "ball\n",
      "345\n",
      "bat\n",
      "2\n",
      "2\n",
      "4\n",
      "5\n",
      "ball\n",
      "345\n",
      "bat\n",
      "2\n",
      "2\n",
      "4\n",
      "5\n",
      "ball\n",
      "345\n",
      "bat\n",
      "2\n"
     ]
    }
   ],
   "source": [
    "for l in l3:\n",
    "    print(l)"
   ]
  },
  {
   "cell_type": "code",
   "execution_count": 11,
   "id": "b5d3a315",
   "metadata": {},
   "outputs": [
    {
     "name": "stdout",
     "output_type": "stream",
     "text": [
      "apple\n",
      "apple\n",
      "apple\n"
     ]
    }
   ],
   "source": [
    "for l in l3:\n",
    "    if l ==\"apple\":\n",
    "        print(l)"
   ]
  },
  {
   "cell_type": "code",
   "execution_count": 12,
   "id": "081c6e60",
   "metadata": {},
   "outputs": [
    {
     "data": {
      "text/plain": [
       "3"
      ]
     },
     "execution_count": 12,
     "metadata": {},
     "output_type": "execute_result"
    }
   ],
   "source": [
    "l3.count(\"apple\")"
   ]
  },
  {
   "cell_type": "code",
   "execution_count": 13,
   "id": "22b1e28f",
   "metadata": {},
   "outputs": [],
   "source": [
    "l3.reverse()"
   ]
  },
  {
   "cell_type": "code",
   "execution_count": 14,
   "id": "746028d2",
   "metadata": {},
   "outputs": [
    {
     "data": {
      "text/plain": [
       "[2,\n",
       " 'bat',\n",
       " '345',\n",
       " 'ball',\n",
       " 5,\n",
       " 4,\n",
       " 2,\n",
       " 2,\n",
       " 'bat',\n",
       " '345',\n",
       " 'ball',\n",
       " 5,\n",
       " 4,\n",
       " 2,\n",
       " 2,\n",
       " 'bat',\n",
       " '345',\n",
       " 'ball',\n",
       " 5,\n",
       " 4,\n",
       " 2,\n",
       " '123',\n",
       " 3.4,\n",
       " 'hmm',\n",
       " 'apple',\n",
       " 'apple',\n",
       " 'banana',\n",
       " 'apple',\n",
       " 1]"
      ]
     },
     "execution_count": 14,
     "metadata": {},
     "output_type": "execute_result"
    }
   ],
   "source": [
    "l3"
   ]
  },
  {
   "cell_type": "code",
   "execution_count": 15,
   "id": "18deb070",
   "metadata": {},
   "outputs": [],
   "source": [
    "l3.reverse()"
   ]
  },
  {
   "cell_type": "code",
   "execution_count": 16,
   "id": "999ea93c",
   "metadata": {},
   "outputs": [
    {
     "data": {
      "text/plain": [
       "[1,\n",
       " 'apple',\n",
       " 'banana',\n",
       " 'apple',\n",
       " 'apple',\n",
       " 'hmm',\n",
       " 3.4,\n",
       " '123',\n",
       " 2,\n",
       " 4,\n",
       " 5,\n",
       " 'ball',\n",
       " '345',\n",
       " 'bat',\n",
       " 2,\n",
       " 2,\n",
       " 4,\n",
       " 5,\n",
       " 'ball',\n",
       " '345',\n",
       " 'bat',\n",
       " 2,\n",
       " 2,\n",
       " 4,\n",
       " 5,\n",
       " 'ball',\n",
       " '345',\n",
       " 'bat',\n",
       " 2]"
      ]
     },
     "execution_count": 16,
     "metadata": {},
     "output_type": "execute_result"
    }
   ],
   "source": [
    "l3"
   ]
  },
  {
   "cell_type": "code",
   "execution_count": 17,
   "id": "aa82228c",
   "metadata": {},
   "outputs": [
    {
     "data": {
      "text/plain": [
       "29"
      ]
     },
     "execution_count": 17,
     "metadata": {},
     "output_type": "execute_result"
    }
   ],
   "source": [
    "len(l3)"
   ]
  },
  {
   "cell_type": "code",
   "execution_count": 19,
   "id": "0d5546a9",
   "metadata": {},
   "outputs": [],
   "source": [
    "del l3[6:20]"
   ]
  },
  {
   "cell_type": "code",
   "execution_count": 20,
   "id": "c4d7fb33",
   "metadata": {},
   "outputs": [
    {
     "data": {
      "text/plain": [
       "[1,\n",
       " 'apple',\n",
       " 'banana',\n",
       " 'apple',\n",
       " 'apple',\n",
       " 'hmm',\n",
       " 'bat',\n",
       " 2,\n",
       " 2,\n",
       " 4,\n",
       " 5,\n",
       " 'ball',\n",
       " '345',\n",
       " 'bat',\n",
       " 2]"
      ]
     },
     "execution_count": 20,
     "metadata": {},
     "output_type": "execute_result"
    }
   ],
   "source": [
    "l3"
   ]
  },
  {
   "cell_type": "code",
   "execution_count": 21,
   "id": "35091ca7",
   "metadata": {},
   "outputs": [],
   "source": [
    "l3.remove(\"apple\")"
   ]
  },
  {
   "cell_type": "code",
   "execution_count": 22,
   "id": "346f57f0",
   "metadata": {},
   "outputs": [
    {
     "data": {
      "text/plain": [
       "[1,\n",
       " 'banana',\n",
       " 'apple',\n",
       " 'apple',\n",
       " 'hmm',\n",
       " 'bat',\n",
       " 2,\n",
       " 2,\n",
       " 4,\n",
       " 5,\n",
       " 'ball',\n",
       " '345',\n",
       " 'bat',\n",
       " 2]"
      ]
     },
     "execution_count": 22,
     "metadata": {},
     "output_type": "execute_result"
    }
   ],
   "source": [
    "l3"
   ]
  },
  {
   "cell_type": "code",
   "execution_count": 23,
   "id": "0a178364",
   "metadata": {},
   "outputs": [
    {
     "data": {
      "text/plain": [
       "True"
      ]
     },
     "execution_count": 23,
     "metadata": {},
     "output_type": "execute_result"
    }
   ],
   "source": [
    "l4 = \"apple\" in l3\n",
    "l4"
   ]
  },
  {
   "cell_type": "code",
   "execution_count": null,
   "id": "24aabcea",
   "metadata": {},
   "outputs": [],
   "source": [
    "l5 = [x*x for x in range(1,5)]"
   ]
  }
 ],
 "metadata": {
  "kernelspec": {
   "display_name": "Python 3 (ipykernel)",
   "language": "python",
   "name": "python3"
  },
  "language_info": {
   "codemirror_mode": {
    "name": "ipython",
    "version": 3
   },
   "file_extension": ".py",
   "mimetype": "text/x-python",
   "name": "python",
   "nbconvert_exporter": "python",
   "pygments_lexer": "ipython3",
   "version": "3.11.0"
  }
 },
 "nbformat": 4,
 "nbformat_minor": 5
}
